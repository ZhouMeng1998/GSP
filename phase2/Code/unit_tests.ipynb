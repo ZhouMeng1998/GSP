{
 "cells": [
  {
   "cell_type": "code",
   "execution_count": 1,
   "metadata": {},
   "outputs": [],
   "source": [
    "import config\n",
    "from gsp_algorithm import generate_candidates, prune_candidates, seq_c_sup"
   ]
  },
  {
   "cell_type": "code",
   "execution_count": 6,
   "metadata": {},
   "outputs": [],
   "source": [
    "def test_generate_candidates():\n",
    "    \"\"\"Test function based on small datasets\"\"\"\n",
    "    print(f'\\nTest generate_candidates()')\n",
    "\n",
    "    # test 1\n",
    "    prev_seqs = [((3046, 1, 2, 3), 1000, 2040), ((1, 2), 3), ((1000, 1), (3050, 2),), (1, (3, 4)), (3012,),\n",
    "                 (3169, (1, 2, 3),), (3,), (2, 3, 5)]\n",
    "    good_candidates = [((1, 2), (3, 4)), ((1, 2), 3, 5),\n",
    "                       (3030, 3030), (3030, 3), ((3030, 3),), (3, 3030), (3, 3)]\n",
    "    test_candidates = generate_candidates(prev_seqs)\n",
    "    # print(test_candidates)\n",
    "    # print(good_candidates)\n",
    "    print(test_candidates == good_candidates)\n",
    "\n",
    "    # test 2\n",
    "    prev_seqs = [((1, 2), 3), ((1, 2), 4), (1, (3, 4)),\n",
    "                 ((1, 3), 5), (2, (3, 4)), (2, 3, 5)]\n",
    "    good_candidates = [((1, 2), (3, 4)), ((1, 2), 3, 5)]\n",
    "    test_candidates = generate_candidates(prev_seqs)\n",
    "    print(test_candidates == good_candidates)\n",
    "\n",
    "    # test 2\n",
    "    prev_seqs = [(1,), (2,), (3,)]\n",
    "    good_candidates = [(1, 1), (1, 2), ((1, 2),), (1, 3), ((1, 3),), (2, 1), (2, 2), (2, 3), ((2, 3),), (3, 1), (3, 2),\n",
    "                       (3, 3)]\n",
    "    test_candidates = generate_candidates(prev_seqs)\n",
    "    print(test_candidates == good_candidates)"
   ]
  },
  {
   "cell_type": "code",
   "execution_count": 4,
   "metadata": {},
   "outputs": [],
   "source": [
    "def test_prune_candidates():\n",
    "    \"\"\"Test function based on small datasets\"\"\"\n",
    "    print(f'\\nTest prune_candidates()')\n",
    "\n",
    "    # test 1\n",
    "    input_candidates = [((1, 2), (3, 4)), ((1, 2), 3, 5)]\n",
    "    prev_seqs = [((1, 2), 3), ((1, 2), 4), (1, (3, 4)),\n",
    "                 ((1, 3), 5), (2, (3, 4)), (2, 3, 5)]\n",
    "    good_candidates = [((1, 2), (3, 4))]\n",
    "    test_candidates = prune_candidates(input_candidates, prev_seqs)\n",
    "    # print(test_candidates)\n",
    "    # print(good_candidates)\n",
    "    print(test_candidates == good_candidates)\n",
    "\n",
    "    # test 2\n",
    "    input_candidates = [((1, 2), (3, 5)), ((1, 2, 3), 5)]\n",
    "    prev_seqs = [((1, 2), 3), ((1, 2), 4), (1, (3, 4)),\n",
    "                 ((1, 3), 5), (2, (3, 4)), (2, 3, 5)]\n",
    "    good_candidates = []\n",
    "    test_candidates = prune_candidates(input_candidates, prev_seqs)\n",
    "    print(test_candidates == good_candidates)\n",
    "\n",
    "    # test 3\n",
    "    input_candidates = [(1, 1), (1, 2), ((1, 2),), (1, 3), ((1, 3),), (2, 1), (2, 2), (2, 3), ((2, 3),), (3, 1), (3, 2),\n",
    "                        (3, 3)]\n",
    "    prev_seqs = [(1,), (2,), (3,)]\n",
    "    good_candidates = [(1, 1), (1, 2), ((1, 2),), (1, 3), ((1, 3),), (2, 1), (2, 2), (2, 3), ((2, 3),), (3, 1), (3, 2),\n",
    "                       (3, 3)]\n",
    "    test_candidates = prune_candidates(input_candidates, prev_seqs)\n",
    "    print(test_candidates == good_candidates)\n",
    "\n"
   ]
  },
  {
   "cell_type": "code",
   "execution_count": null,
   "metadata": {},
   "outputs": [],
   "source": [
    "def test_seq_c_sup():\n",
    "    \"\"\"Test function based on small datasets\"\"\"\n",
    "    print(f'\\nTest seq_c_sup()')\n",
    "    # print('Warning: remember to set in config: wSize = 10, minGap = 5, maxGap = 20')\n",
    "    old_params = config.wSize, config.minGap, config.maxGap\n",
    "    config.wSize = 10\n",
    "    config.minGap = 5\n",
    "    config.maxGap = 20\n",
    "\n",
    "    # test 1\n",
    "    c = ((1, 2, 3), 1, 2, 4)\n",
    "    seq_tids = {1: [10, 20, 21], 2: [15, 25, 30], 3: [5, 10, 15], 4: [45]}\n",
    "    print(seq_c_sup(seq_tids, c) is True)\n",
    "\n",
    "    # test 2\n",
    "    c = ((1, 2, 3), 1, 2, 4)\n",
    "    seq_tids = {1: [10, 20], 2: [15, 25, 30], 3: [5, 10, 15], 4: [45]}\n",
    "    print(seq_c_sup(seq_tids, c) is False)\n",
    "\n",
    "    # test 3\n",
    "    c = ((1, 2, 3), 1, 2, 4)\n",
    "    seq_tids = {1: [10, 20, 21], 2: [15, 25, 30], 3: [5, 10, 15], 4: [51]}\n",
    "    print(seq_c_sup(seq_tids, c) is False)\n",
    "\n",
    "    config.wSize, config.minGap, config.maxGap = old_params"
   ]
  }
 ],
 "metadata": {
  "interpreter": {
   "hash": "697ca794c318ca7e9c963cd9e9ecf0081834c3b9659dbafa66583330a98a58ba"
  },
  "kernelspec": {
   "display_name": "Python 3.8.13 ('r-reticulate')",
   "language": "python",
   "name": "python3"
  },
  "language_info": {
   "codemirror_mode": {
    "name": "ipython",
    "version": 3
   },
   "file_extension": ".py",
   "mimetype": "text/x-python",
   "name": "python",
   "nbconvert_exporter": "python",
   "pygments_lexer": "ipython3",
   "version": "3.8.13"
  },
  "orig_nbformat": 4
 },
 "nbformat": 4,
 "nbformat_minor": 2
}
