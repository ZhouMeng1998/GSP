{
 "cells": [
  {
   "cell_type": "code",
   "execution_count": 1,
   "metadata": {},
   "outputs": [],
   "source": [
    "def read_spmf_txt(fname: str, load_times: bool = False) -> list:\n",
    "    \"\"\" Read txt file in an SPMF format\n",
    "\n",
    "        :param fname: name of file to read from\n",
    "        :type fname: str\n",
    "\n",
    "        :param load_times: decides, if additional file with transaction times is provided by user. If not, generates\n",
    "                            transaction times by transaction order\n",
    "        :type load_times: bool\n",
    "\n",
    "        :return (seqs, seq_times):\n",
    "            seqs: list of sequences from file: seqs=[seq1, seq2, ...], seq1=[tran1, tran2, ...], tran1=[el1, el2, ...]\n",
    "            seq_times: list of transaction times corresponding to seqs: seq_times=[seq1, seq2, ...], seq1=[tran_time1,\n",
    "                        tran_time2, ...]\n",
    "        :rtype: (list, list)\n",
    "        \"\"\"\n",
    "\n",
    "    seqs = []\n",
    "    seqs_times = []\n",
    "\n",
    "    with open(f'data/{fname}.txt') as f:\n",
    "        line = f.readline()\n",
    "        while line:\n",
    "            seq = line.split(' -1 ')\n",
    "            seq.pop()\n",
    "            seq = [tran.split(' ') for tran in seq]\n",
    "            seq = [[int(el) for el in tran] for tran in seq]\n",
    "            seqs.append(seq)\n",
    "\n",
    "            if not load_times:\n",
    "                seqs_times.append(list(range(1, len(seq) + 1)))\n",
    "\n",
    "            line = f.readline()\n",
    "\n",
    "    if load_times:\n",
    "        with open(f'data/{fname}_times.txt') as f:\n",
    "            line = f.readline()\n",
    "            while line:\n",
    "                seq_times = line.split(' -1 ')\n",
    "                seq_times.pop()\n",
    "                seq_times = [int(time) for time in seq_times]\n",
    "                seqs_times.append(seq_times)\n",
    "                line = f.readline()\n",
    "\n",
    "    return seqs, seqs_times"
   ]
  },
  {
   "cell_type": "code",
   "execution_count": 3,
   "metadata": {},
   "outputs": [],
   "source": [
    "def load_test_data() -> list:\n",
    "    \"\"\" Generate simple data for easier testing\n",
    "    :return (seqs, seq_times):\n",
    "            seqs: list of sequences\n",
    "            seq_times: list of transaction times corresponding to seqs\n",
    "        :rtype: (list, list)\n",
    "    \"\"\"\n",
    "\n",
    "    seqs = [\n",
    "        [[1], [3]],\n",
    "        [[1], [2], [4], [5], [1]],\n",
    "        [[2], [3], [5], [6]],\n",
    "        [[1], [2], [3], [4]],\n",
    "        [[1], [2], [5], [1]]\n",
    "    ]\n",
    "    seqs_times = [\n",
    "        [1,2, 3],\n",
    "        [1, 2, 3, 4, 5],\n",
    "        [1, 2, 3, 4],\n",
    "        [1, 2, 3],\n",
    "        [1, 2, 3, 4]\n",
    "    ]\n",
    "\n",
    "    return seqs, seqs_times\n"
   ]
  }
 ],
 "metadata": {
  "interpreter": {
   "hash": "697ca794c318ca7e9c963cd9e9ecf0081834c3b9659dbafa66583330a98a58ba"
  },
  "kernelspec": {
   "display_name": "Python 3.8.13 ('r-reticulate')",
   "language": "python",
   "name": "python3"
  },
  "language_info": {
   "codemirror_mode": {
    "name": "ipython",
    "version": 3
   },
   "file_extension": ".py",
   "mimetype": "text/x-python",
   "name": "python",
   "nbconvert_exporter": "python",
   "pygments_lexer": "ipython3",
   "version": "3.8.13"
  },
  "orig_nbformat": 4
 },
 "nbformat": 4,
 "nbformat_minor": 2
}
