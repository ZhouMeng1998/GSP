{
 "cells": [
  {
   "cell_type": "code",
   "execution_count": 1,
   "id": "d15dffee",
   "metadata": {},
   "outputs": [
    {
     "name": "stderr",
     "output_type": "stream",
     "text": [
      "C:\\Users\\Philip\\AppData\\Local\\Temp\\ipykernel_6060\\3010240173.py:11: FutureWarning: The error_bad_lines argument has been deprecated and will be removed in a future version. Use on_bad_lines in the future.\n",
      "\n",
      "\n",
      "  df = pd.read_csv('covid.csv', error_bad_lines=False)\n",
      "b'Skipping line 4: expected 1 fields, saw 3\\nSkipping line 5: expected 1 fields, saw 2\\nSkipping line 11: expected 1 fields, saw 2\\nSkipping line 14: expected 1 fields, saw 3\\nSkipping line 15: expected 1 fields, saw 2\\nSkipping line 16: expected 1 fields, saw 2\\nSkipping line 19: expected 1 fields, saw 2\\nSkipping line 22: expected 1 fields, saw 2\\nSkipping line 27: expected 1 fields, saw 3\\nSkipping line 35: expected 1 fields, saw 3\\nSkipping line 36: expected 1 fields, saw 3\\nSkipping line 40: expected 1 fields, saw 3\\nSkipping line 48: expected 1 fields, saw 2\\nSkipping line 51: expected 1 fields, saw 3\\nSkipping line 58: expected 1 fields, saw 2\\nSkipping line 61: expected 1 fields, saw 3\\nSkipping line 70: expected 1 fields, saw 3\\nSkipping line 76: expected 1 fields, saw 2\\nSkipping line 81: expected 1 fields, saw 4\\nSkipping line 82: expected 1 fields, saw 3\\nSkipping line 83: expected 1 fields, saw 3\\nSkipping line 86: expected 1 fields, saw 2\\nSkipping line 87: expected 1 fields, saw 6\\nSkipping line 89: expected 1 fields, saw 6\\nSkipping line 94: expected 1 fields, saw 7\\nSkipping line 96: expected 1 fields, saw 2\\nSkipping line 98: expected 1 fields, saw 2\\nSkipping line 99: expected 1 fields, saw 3\\nSkipping line 104: expected 1 fields, saw 3\\nSkipping line 116: expected 1 fields, saw 2\\nSkipping line 122: expected 1 fields, saw 2\\nSkipping line 127: expected 1 fields, saw 2\\nSkipping line 128: expected 1 fields, saw 3\\nSkipping line 129: expected 1 fields, saw 2\\nSkipping line 131: expected 1 fields, saw 7\\nSkipping line 132: expected 1 fields, saw 4\\nSkipping line 135: expected 1 fields, saw 6\\nSkipping line 139: expected 1 fields, saw 2\\nSkipping line 148: expected 1 fields, saw 5\\nSkipping line 155: expected 1 fields, saw 8\\nSkipping line 156: expected 1 fields, saw 4\\nSkipping line 159: expected 1 fields, saw 2\\nSkipping line 160: expected 1 fields, saw 2\\nSkipping line 173: expected 1 fields, saw 2\\nSkipping line 175: expected 1 fields, saw 2\\nSkipping line 181: expected 1 fields, saw 4\\nSkipping line 183: expected 1 fields, saw 4\\nSkipping line 185: expected 1 fields, saw 4\\nSkipping line 186: expected 1 fields, saw 4\\nSkipping line 188: expected 1 fields, saw 2\\nSkipping line 191: expected 1 fields, saw 2\\nSkipping line 195: expected 1 fields, saw 5\\nSkipping line 196: expected 1 fields, saw 3\\nSkipping line 199: expected 1 fields, saw 2\\nSkipping line 200: expected 1 fields, saw 2\\nSkipping line 201: expected 1 fields, saw 4\\n'\n"
     ]
    },
    {
     "data": {
      "text/html": [
       "<div>\n",
       "<style scoped>\n",
       "    .dataframe tbody tr th:only-of-type {\n",
       "        vertical-align: middle;\n",
       "    }\n",
       "\n",
       "    .dataframe tbody tr th {\n",
       "        vertical-align: top;\n",
       "    }\n",
       "\n",
       "    .dataframe thead th {\n",
       "        text-align: right;\n",
       "    }\n",
       "</style>\n",
       "<table border=\"1\" class=\"dataframe\">\n",
       "  <thead>\n",
       "    <tr style=\"text-align: right;\">\n",
       "      <th></th>\n",
       "      <th>Content</th>\n",
       "    </tr>\n",
       "  </thead>\n",
       "  <tbody>\n",
       "    <tr>\n",
       "      <th>0</th>\n",
       "      <td>Austria🇦🇹: Planning lockdown for the unvaccina...</td>\n",
       "    </tr>\n",
       "    <tr>\n",
       "      <th>1</th>\n",
       "      <td>A thread on how excess deaths stopped being ti...</td>\n",
       "    </tr>\n",
       "    <tr>\n",
       "      <th>2</th>\n",
       "      <td>So in a week in which @ScottMorrisonMP lied to...</td>\n",
       "    </tr>\n",
       "    <tr>\n",
       "      <th>3</th>\n",
       "      <td>Two years since China unleashed COVID on the w...</td>\n",
       "    </tr>\n",
       "    <tr>\n",
       "      <th>4</th>\n",
       "      <td>Today's Covid death is close to 300 (293), hig...</td>\n",
       "    </tr>\n",
       "  </tbody>\n",
       "</table>\n",
       "</div>"
      ],
      "text/plain": [
       "                                             Content\n",
       "0  Austria🇦🇹: Planning lockdown for the unvaccina...\n",
       "1  A thread on how excess deaths stopped being ti...\n",
       "2  So in a week in which @ScottMorrisonMP lied to...\n",
       "3  Two years since China unleashed COVID on the w...\n",
       "4  Today's Covid death is close to 300 (293), hig..."
      ]
     },
     "execution_count": 1,
     "metadata": {},
     "output_type": "execute_result"
    }
   ],
   "source": [
    "import numpy as np\n",
    "import pandas as pd\n",
    "import re\n",
    "import nltk\n",
    "from nltk.corpus import stopwords\n",
    "import spacy\n",
    "import en_core_web_sm\n",
    "import string\n",
    "\n",
    "#reviews = pd.read_csv('Datafiniti_Hotel_Reviews.csv')\n",
    "df = pd.read_csv('covid.csv', error_bad_lines=False)\n",
    "df.head(5)"
   ]
  },
  {
   "cell_type": "code",
   "execution_count": 2,
   "id": "56b2650d",
   "metadata": {},
   "outputs": [
    {
     "data": {
      "text/html": [
       "<div>\n",
       "<style scoped>\n",
       "    .dataframe tbody tr th:only-of-type {\n",
       "        vertical-align: middle;\n",
       "    }\n",
       "\n",
       "    .dataframe tbody tr th {\n",
       "        vertical-align: top;\n",
       "    }\n",
       "\n",
       "    .dataframe thead th {\n",
       "        text-align: right;\n",
       "    }\n",
       "</style>\n",
       "<table border=\"1\" class=\"dataframe\">\n",
       "  <thead>\n",
       "    <tr style=\"text-align: right;\">\n",
       "      <th></th>\n",
       "      <th>Content</th>\n",
       "    </tr>\n",
       "  </thead>\n",
       "  <tbody>\n",
       "    <tr>\n",
       "      <th>0</th>\n",
       "      <td>austria🇦🇹: planning lockdown for the unvaccina...</td>\n",
       "    </tr>\n",
       "    <tr>\n",
       "      <th>1</th>\n",
       "      <td>a thread on how excess deaths stopped being ti...</td>\n",
       "    </tr>\n",
       "    <tr>\n",
       "      <th>2</th>\n",
       "      <td>so in a week in which @scottmorrisonmp lied to...</td>\n",
       "    </tr>\n",
       "  </tbody>\n",
       "</table>\n",
       "</div>"
      ],
      "text/plain": [
       "                                             Content\n",
       "0  austria🇦🇹: planning lockdown for the unvaccina...\n",
       "1  a thread on how excess deaths stopped being ti...\n",
       "2  so in a week in which @scottmorrisonmp lied to..."
      ]
     },
     "execution_count": 2,
     "metadata": {},
     "output_type": "execute_result"
    }
   ],
   "source": [
    "df['Content'] = df['Content'].astype(str).str.lower()\n",
    "df.head(3)"
   ]
  },
  {
   "cell_type": "code",
   "execution_count": 3,
   "id": "f8529c2b",
   "metadata": {},
   "outputs": [
    {
     "data": {
      "text/html": [
       "<div>\n",
       "<style scoped>\n",
       "    .dataframe tbody tr th:only-of-type {\n",
       "        vertical-align: middle;\n",
       "    }\n",
       "\n",
       "    .dataframe tbody tr th {\n",
       "        vertical-align: top;\n",
       "    }\n",
       "\n",
       "    .dataframe thead th {\n",
       "        text-align: right;\n",
       "    }\n",
       "</style>\n",
       "<table border=\"1\" class=\"dataframe\">\n",
       "  <thead>\n",
       "    <tr style=\"text-align: right;\">\n",
       "      <th></th>\n",
       "      <th>Content</th>\n",
       "    </tr>\n",
       "  </thead>\n",
       "  <tbody>\n",
       "    <tr>\n",
       "      <th>0</th>\n",
       "      <td>austria🇦🇹 planning lockdown for the unvaccinat...</td>\n",
       "    </tr>\n",
       "    <tr>\n",
       "      <th>1</th>\n",
       "      <td>a thread on how excess deaths stopped being ti...</td>\n",
       "    </tr>\n",
       "    <tr>\n",
       "      <th>2</th>\n",
       "      <td>so in a week in which scottmorrisonmp lied to ...</td>\n",
       "    </tr>\n",
       "    <tr>\n",
       "      <th>3</th>\n",
       "      <td>two years since china unleashed covid on the w...</td>\n",
       "    </tr>\n",
       "    <tr>\n",
       "      <th>4</th>\n",
       "      <td>todays covid death is close to   highest since...</td>\n",
       "    </tr>\n",
       "    <tr>\n",
       "      <th>5</th>\n",
       "      <td>breaking news \\n\\nchina tells citizens to stoc...</td>\n",
       "    </tr>\n",
       "    <tr>\n",
       "      <th>6</th>\n",
       "      <td>it’s been  days since the st lockdown i’ve see...</td>\n",
       "    </tr>\n",
       "    <tr>\n",
       "      <th>7</th>\n",
       "      <td>suddenly the us intelligence community says th...</td>\n",
       "    </tr>\n",
       "    <tr>\n",
       "      <th>8</th>\n",
       "      <td>somewhere in the world today\\n\\n billionth dos...</td>\n",
       "    </tr>\n",
       "    <tr>\n",
       "      <th>9</th>\n",
       "      <td>important announcement\\nno more than  soccer s...</td>\n",
       "    </tr>\n",
       "  </tbody>\n",
       "</table>\n",
       "</div>"
      ],
      "text/plain": [
       "                                             Content\n",
       "0  austria🇦🇹 planning lockdown for the unvaccinat...\n",
       "1  a thread on how excess deaths stopped being ti...\n",
       "2  so in a week in which scottmorrisonmp lied to ...\n",
       "3  two years since china unleashed covid on the w...\n",
       "4  todays covid death is close to   highest since...\n",
       "5  breaking news \\n\\nchina tells citizens to stoc...\n",
       "6  it’s been  days since the st lockdown i’ve see...\n",
       "7  suddenly the us intelligence community says th...\n",
       "8  somewhere in the world today\\n\\n billionth dos...\n",
       "9  important announcement\\nno more than  soccer s..."
      ]
     },
     "execution_count": 3,
     "metadata": {},
     "output_type": "execute_result"
    }
   ],
   "source": [
    "def remove_punct(text):\n",
    "    text  = \"\".join([char for char in text if char not in string.punctuation])\n",
    "    text = re.sub('[0-9]+', '', text)\n",
    "    return text\n",
    "\n",
    "df['Content'] = df['Content'].apply(lambda x: remove_punct(x))\n",
    "df.head(10)\n",
    "\n",
    "\n"
   ]
  },
  {
   "cell_type": "code",
   "execution_count": 4,
   "id": "4f2e8c33",
   "metadata": {},
   "outputs": [
    {
     "data": {
      "text/html": [
       "<div>\n",
       "<style scoped>\n",
       "    .dataframe tbody tr th:only-of-type {\n",
       "        vertical-align: middle;\n",
       "    }\n",
       "\n",
       "    .dataframe tbody tr th {\n",
       "        vertical-align: top;\n",
       "    }\n",
       "\n",
       "    .dataframe thead th {\n",
       "        text-align: right;\n",
       "    }\n",
       "</style>\n",
       "<table border=\"1\" class=\"dataframe\">\n",
       "  <thead>\n",
       "    <tr style=\"text-align: right;\">\n",
       "      <th></th>\n",
       "      <th>Content</th>\n",
       "      <th>text_token</th>\n",
       "    </tr>\n",
       "  </thead>\n",
       "  <tbody>\n",
       "    <tr>\n",
       "      <th>0</th>\n",
       "      <td>austria🇦🇹 planning lockdown for the unvaccinat...</td>\n",
       "      <td>[austria, planning, lockdown, for, the, unvacc...</td>\n",
       "    </tr>\n",
       "    <tr>\n",
       "      <th>1</th>\n",
       "      <td>a thread on how excess deaths stopped being ti...</td>\n",
       "      <td>[a, thread, on, how, excess, deaths, stopped, ...</td>\n",
       "    </tr>\n",
       "    <tr>\n",
       "      <th>2</th>\n",
       "      <td>so in a week in which scottmorrisonmp lied to ...</td>\n",
       "      <td>[so, in, a, week, in, which, scottmorrisonmp, ...</td>\n",
       "    </tr>\n",
       "  </tbody>\n",
       "</table>\n",
       "</div>"
      ],
      "text/plain": [
       "                                             Content  \\\n",
       "0  austria🇦🇹 planning lockdown for the unvaccinat...   \n",
       "1  a thread on how excess deaths stopped being ti...   \n",
       "2  so in a week in which scottmorrisonmp lied to ...   \n",
       "\n",
       "                                          text_token  \n",
       "0  [austria, planning, lockdown, for, the, unvacc...  \n",
       "1  [a, thread, on, how, excess, deaths, stopped, ...  \n",
       "2  [so, in, a, week, in, which, scottmorrisonmp, ...  "
      ]
     },
     "execution_count": 4,
     "metadata": {},
     "output_type": "execute_result"
    }
   ],
   "source": [
    "from nltk.tokenize import RegexpTokenizer\n",
    "\n",
    "regexp = RegexpTokenizer('\\w+')\n",
    "\n",
    "df['text_token']=df['Content'].apply(regexp.tokenize)\n",
    "df.head(3)"
   ]
  },
  {
   "cell_type": "code",
   "execution_count": 5,
   "id": "88500d7f",
   "metadata": {},
   "outputs": [
    {
     "name": "stderr",
     "output_type": "stream",
     "text": [
      "[nltk_data] Downloading package stopwords to\n",
      "[nltk_data]     C:\\Users\\Philip\\AppData\\Roaming\\nltk_data...\n",
      "[nltk_data]   Package stopwords is already up-to-date!\n"
     ]
    },
    {
     "data": {
      "text/plain": [
       "True"
      ]
     },
     "execution_count": 5,
     "metadata": {},
     "output_type": "execute_result"
    }
   ],
   "source": [
    "nltk.download('stopwords')\n"
   ]
  },
  {
   "cell_type": "code",
   "execution_count": 6,
   "id": "9e409045",
   "metadata": {},
   "outputs": [],
   "source": [
    "from nltk.corpus import stopwords\n",
    "\n",
    "# Make a list of english stopwords\n",
    "stopwords = nltk.corpus.stopwords.words(\"english\")\n",
    "\n",
    "# Extend the list with your own custom stopwords\n",
    "my_stopwords = ['https']\n",
    "stopwords.extend(my_stopwords)"
   ]
  },
  {
   "cell_type": "code",
   "execution_count": 7,
   "id": "5114efc0",
   "metadata": {},
   "outputs": [
    {
     "data": {
      "text/html": [
       "<div>\n",
       "<style scoped>\n",
       "    .dataframe tbody tr th:only-of-type {\n",
       "        vertical-align: middle;\n",
       "    }\n",
       "\n",
       "    .dataframe tbody tr th {\n",
       "        vertical-align: top;\n",
       "    }\n",
       "\n",
       "    .dataframe thead th {\n",
       "        text-align: right;\n",
       "    }\n",
       "</style>\n",
       "<table border=\"1\" class=\"dataframe\">\n",
       "  <thead>\n",
       "    <tr style=\"text-align: right;\">\n",
       "      <th></th>\n",
       "      <th>Content</th>\n",
       "      <th>text_token</th>\n",
       "    </tr>\n",
       "  </thead>\n",
       "  <tbody>\n",
       "    <tr>\n",
       "      <th>0</th>\n",
       "      <td>austria🇦🇹 planning lockdown for the unvaccinat...</td>\n",
       "      <td>[austria, planning, lockdown, unvaccinated, it...</td>\n",
       "    </tr>\n",
       "    <tr>\n",
       "      <th>1</th>\n",
       "      <td>a thread on how excess deaths stopped being ti...</td>\n",
       "      <td>[thread, excess, deaths, stopped, tied, elderl...</td>\n",
       "    </tr>\n",
       "    <tr>\n",
       "      <th>2</th>\n",
       "      <td>so in a week in which scottmorrisonmp lied to ...</td>\n",
       "      <td>[week, scottmorrisonmp, lied, french, us, alli...</td>\n",
       "    </tr>\n",
       "  </tbody>\n",
       "</table>\n",
       "</div>"
      ],
      "text/plain": [
       "                                             Content  \\\n",
       "0  austria🇦🇹 planning lockdown for the unvaccinat...   \n",
       "1  a thread on how excess deaths stopped being ti...   \n",
       "2  so in a week in which scottmorrisonmp lied to ...   \n",
       "\n",
       "                                          text_token  \n",
       "0  [austria, planning, lockdown, unvaccinated, it...  \n",
       "1  [thread, excess, deaths, stopped, tied, elderl...  \n",
       "2  [week, scottmorrisonmp, lied, french, us, alli...  "
      ]
     },
     "execution_count": 7,
     "metadata": {},
     "output_type": "execute_result"
    }
   ],
   "source": [
    "df['text_token'] = df['text_token'].apply(lambda x: [item for item in x if item not in stopwords])\n",
    "df.head(3)"
   ]
  },
  {
   "cell_type": "code",
   "execution_count": 8,
   "id": "0dbe3e06",
   "metadata": {},
   "outputs": [],
   "source": [
    "# df['text_token'] = df['text_token'].apply(lambda x: ' '.join([item for item in x if len(item)>2]))\n",
    "# df.head(3)\n"
   ]
  },
  {
   "cell_type": "code",
   "execution_count": 9,
   "id": "06b8b2f2",
   "metadata": {},
   "outputs": [
    {
     "name": "stderr",
     "output_type": "stream",
     "text": [
      "[nltk_data] Downloading package wordnet to\n",
      "[nltk_data]     C:\\Users\\Philip\\AppData\\Roaming\\nltk_data...\n",
      "[nltk_data]   Package wordnet is already up-to-date!\n"
     ]
    },
    {
     "data": {
      "text/plain": [
       "True"
      ]
     },
     "execution_count": 9,
     "metadata": {},
     "output_type": "execute_result"
    }
   ],
   "source": [
    "nltk.download('wordnet')\n"
   ]
  },
  {
   "cell_type": "code",
   "execution_count": 10,
   "id": "9df45121",
   "metadata": {},
   "outputs": [
    {
     "data": {
      "text/html": [
       "<div>\n",
       "<style scoped>\n",
       "    .dataframe tbody tr th:only-of-type {\n",
       "        vertical-align: middle;\n",
       "    }\n",
       "\n",
       "    .dataframe tbody tr th {\n",
       "        vertical-align: top;\n",
       "    }\n",
       "\n",
       "    .dataframe thead th {\n",
       "        text-align: right;\n",
       "    }\n",
       "</style>\n",
       "<table border=\"1\" class=\"dataframe\">\n",
       "  <thead>\n",
       "    <tr style=\"text-align: right;\">\n",
       "      <th></th>\n",
       "      <th>Content</th>\n",
       "      <th>text_token</th>\n",
       "      <th>Tweet_stemmed</th>\n",
       "    </tr>\n",
       "  </thead>\n",
       "  <tbody>\n",
       "    <tr>\n",
       "      <th>0</th>\n",
       "      <td>austria🇦🇹 planning lockdown for the unvaccinat...</td>\n",
       "      <td>[austria, planning, lockdown, unvaccinated, it...</td>\n",
       "      <td>[austria, plan, lockdown, unvaccin, itali, peo...</td>\n",
       "    </tr>\n",
       "    <tr>\n",
       "      <th>1</th>\n",
       "      <td>a thread on how excess deaths stopped being ti...</td>\n",
       "      <td>[thread, excess, deaths, stopped, tied, elderl...</td>\n",
       "      <td>[thread, excess, death, stop, tie, elderli, co...</td>\n",
       "    </tr>\n",
       "    <tr>\n",
       "      <th>2</th>\n",
       "      <td>so in a week in which scottmorrisonmp lied to ...</td>\n",
       "      <td>[week, scottmorrisonmp, lied, french, us, alli...</td>\n",
       "      <td>[week, scottmorrisonmp, lie, french, us, alli,...</td>\n",
       "    </tr>\n",
       "    <tr>\n",
       "      <th>3</th>\n",
       "      <td>two years since china unleashed covid on the w...</td>\n",
       "      <td>[two, years, since, china, unleashed, covid, w...</td>\n",
       "      <td>[two, year, sinc, china, unleash, covid, world...</td>\n",
       "    </tr>\n",
       "    <tr>\n",
       "      <th>4</th>\n",
       "      <td>todays covid death is close to   highest since...</td>\n",
       "      <td>[todays, covid, death, close, highest, since, ...</td>\n",
       "      <td>[today, covid, death, close, highest, sinc, fe...</td>\n",
       "    </tr>\n",
       "  </tbody>\n",
       "</table>\n",
       "</div>"
      ],
      "text/plain": [
       "                                             Content  \\\n",
       "0  austria🇦🇹 planning lockdown for the unvaccinat...   \n",
       "1  a thread on how excess deaths stopped being ti...   \n",
       "2  so in a week in which scottmorrisonmp lied to ...   \n",
       "3  two years since china unleashed covid on the w...   \n",
       "4  todays covid death is close to   highest since...   \n",
       "\n",
       "                                          text_token  \\\n",
       "0  [austria, planning, lockdown, unvaccinated, it...   \n",
       "1  [thread, excess, deaths, stopped, tied, elderl...   \n",
       "2  [week, scottmorrisonmp, lied, french, us, alli...   \n",
       "3  [two, years, since, china, unleashed, covid, w...   \n",
       "4  [todays, covid, death, close, highest, since, ...   \n",
       "\n",
       "                                       Tweet_stemmed  \n",
       "0  [austria, plan, lockdown, unvaccin, itali, peo...  \n",
       "1  [thread, excess, death, stop, tie, elderli, co...  \n",
       "2  [week, scottmorrisonmp, lie, french, us, alli,...  \n",
       "3  [two, year, sinc, china, unleash, covid, world...  \n",
       "4  [today, covid, death, close, highest, sinc, fe...  "
      ]
     },
     "execution_count": 10,
     "metadata": {},
     "output_type": "execute_result"
    }
   ],
   "source": [
    "ps = nltk.PorterStemmer()\n",
    "\n",
    "def stemming(text):\n",
    "    text = [ps.stem(word) for word in text]\n",
    "    return text\n",
    "\n",
    "df['Tweet_stemmed'] = df['text_token'].apply(lambda x: stemming(x))\n",
    "df.head()"
   ]
  },
  {
   "cell_type": "code",
   "execution_count": 11,
   "id": "6aae08cc",
   "metadata": {},
   "outputs": [
    {
     "data": {
      "text/html": [
       "<div>\n",
       "<style scoped>\n",
       "    .dataframe tbody tr th:only-of-type {\n",
       "        vertical-align: middle;\n",
       "    }\n",
       "\n",
       "    .dataframe tbody tr th {\n",
       "        vertical-align: top;\n",
       "    }\n",
       "\n",
       "    .dataframe thead th {\n",
       "        text-align: right;\n",
       "    }\n",
       "</style>\n",
       "<table border=\"1\" class=\"dataframe\">\n",
       "  <thead>\n",
       "    <tr style=\"text-align: right;\">\n",
       "      <th></th>\n",
       "      <th>Content</th>\n",
       "      <th>text_token</th>\n",
       "      <th>Tweet_stemmed</th>\n",
       "      <th>Tweet_lemmatized</th>\n",
       "    </tr>\n",
       "  </thead>\n",
       "  <tbody>\n",
       "    <tr>\n",
       "      <th>0</th>\n",
       "      <td>austria🇦🇹 planning lockdown for the unvaccinat...</td>\n",
       "      <td>[austria, planning, lockdown, unvaccinated, it...</td>\n",
       "      <td>[austria, plan, lockdown, unvaccin, itali, peo...</td>\n",
       "      <td>[austria, plan, lockdown, unvaccin, itali, peo...</td>\n",
       "    </tr>\n",
       "    <tr>\n",
       "      <th>1</th>\n",
       "      <td>a thread on how excess deaths stopped being ti...</td>\n",
       "      <td>[thread, excess, deaths, stopped, tied, elderl...</td>\n",
       "      <td>[thread, excess, death, stop, tie, elderli, co...</td>\n",
       "      <td>[thread, excess, death, stop, tie, elderli, co...</td>\n",
       "    </tr>\n",
       "    <tr>\n",
       "      <th>2</th>\n",
       "      <td>so in a week in which scottmorrisonmp lied to ...</td>\n",
       "      <td>[week, scottmorrisonmp, lied, french, us, alli...</td>\n",
       "      <td>[week, scottmorrisonmp, lie, french, us, alli,...</td>\n",
       "      <td>[week, scottmorrisonmp, lie, french, u, alli, ...</td>\n",
       "    </tr>\n",
       "    <tr>\n",
       "      <th>3</th>\n",
       "      <td>two years since china unleashed covid on the w...</td>\n",
       "      <td>[two, years, since, china, unleashed, covid, w...</td>\n",
       "      <td>[two, year, sinc, china, unleash, covid, world...</td>\n",
       "      <td>[two, year, sinc, china, unleash, covid, world...</td>\n",
       "    </tr>\n",
       "    <tr>\n",
       "      <th>4</th>\n",
       "      <td>todays covid death is close to   highest since...</td>\n",
       "      <td>[todays, covid, death, close, highest, since, ...</td>\n",
       "      <td>[today, covid, death, close, highest, sinc, fe...</td>\n",
       "      <td>[today, covid, death, close, highest, sinc, fe...</td>\n",
       "    </tr>\n",
       "  </tbody>\n",
       "</table>\n",
       "</div>"
      ],
      "text/plain": [
       "                                             Content  \\\n",
       "0  austria🇦🇹 planning lockdown for the unvaccinat...   \n",
       "1  a thread on how excess deaths stopped being ti...   \n",
       "2  so in a week in which scottmorrisonmp lied to ...   \n",
       "3  two years since china unleashed covid on the w...   \n",
       "4  todays covid death is close to   highest since...   \n",
       "\n",
       "                                          text_token  \\\n",
       "0  [austria, planning, lockdown, unvaccinated, it...   \n",
       "1  [thread, excess, deaths, stopped, tied, elderl...   \n",
       "2  [week, scottmorrisonmp, lied, french, us, alli...   \n",
       "3  [two, years, since, china, unleashed, covid, w...   \n",
       "4  [todays, covid, death, close, highest, since, ...   \n",
       "\n",
       "                                       Tweet_stemmed  \\\n",
       "0  [austria, plan, lockdown, unvaccin, itali, peo...   \n",
       "1  [thread, excess, death, stop, tie, elderli, co...   \n",
       "2  [week, scottmorrisonmp, lie, french, us, alli,...   \n",
       "3  [two, year, sinc, china, unleash, covid, world...   \n",
       "4  [today, covid, death, close, highest, sinc, fe...   \n",
       "\n",
       "                                    Tweet_lemmatized  \n",
       "0  [austria, plan, lockdown, unvaccin, itali, peo...  \n",
       "1  [thread, excess, death, stop, tie, elderli, co...  \n",
       "2  [week, scottmorrisonmp, lie, french, u, alli, ...  \n",
       "3  [two, year, sinc, china, unleash, covid, world...  \n",
       "4  [today, covid, death, close, highest, sinc, fe...  "
      ]
     },
     "execution_count": 11,
     "metadata": {},
     "output_type": "execute_result"
    }
   ],
   "source": [
    "wn = nltk.WordNetLemmatizer()\n",
    "\n",
    "def lemmatizer(text):\n",
    "    text = [wn.lemmatize(word) for word in text]\n",
    "    return text\n",
    "\n",
    "df['Tweet_lemmatized'] = df['Tweet_stemmed'].apply(lambda x: lemmatizer(x))\n",
    "df.head()"
   ]
  },
  {
   "cell_type": "code",
   "execution_count": 12,
   "id": "515916b2",
   "metadata": {},
   "outputs": [
    {
     "name": "stderr",
     "output_type": "stream",
     "text": [
      "[nltk_data] Downloading package punkt to\n",
      "[nltk_data]     C:\\Users\\Philip\\AppData\\Roaming\\nltk_data...\n",
      "[nltk_data]   Package punkt is already up-to-date!\n"
     ]
    },
    {
     "data": {
      "text/plain": [
       "True"
      ]
     },
     "execution_count": 12,
     "metadata": {},
     "output_type": "execute_result"
    }
   ],
   "source": [
    "nltk.download('punkt')\n"
   ]
  },
  {
   "cell_type": "code",
   "execution_count": 13,
   "id": "22b09da4",
   "metadata": {},
   "outputs": [
    {
     "name": "stderr",
     "output_type": "stream",
     "text": [
      "[nltk_data] Downloading package words to\n",
      "[nltk_data]     C:\\Users\\Philip\\AppData\\Roaming\\nltk_data...\n",
      "[nltk_data]   Package words is already up-to-date!\n"
     ]
    }
   ],
   "source": [
    "nltk.download('words')\n",
    "words = set(nltk.corpus.words.words())"
   ]
  },
  {
   "cell_type": "code",
   "execution_count": 14,
   "id": "15b510f4",
   "metadata": {},
   "outputs": [
    {
     "data": {
      "text/html": [
       "<div>\n",
       "<style scoped>\n",
       "    .dataframe tbody tr th:only-of-type {\n",
       "        vertical-align: middle;\n",
       "    }\n",
       "\n",
       "    .dataframe tbody tr th {\n",
       "        vertical-align: top;\n",
       "    }\n",
       "\n",
       "    .dataframe thead th {\n",
       "        text-align: right;\n",
       "    }\n",
       "</style>\n",
       "<table border=\"1\" class=\"dataframe\">\n",
       "  <thead>\n",
       "    <tr style=\"text-align: right;\">\n",
       "      <th></th>\n",
       "      <th>Content</th>\n",
       "      <th>text_token</th>\n",
       "      <th>Tweet_stemmed</th>\n",
       "      <th>Tweet_lemmatized</th>\n",
       "    </tr>\n",
       "  </thead>\n",
       "  <tbody>\n",
       "    <tr>\n",
       "      <th>0</th>\n",
       "      <td>austria🇦🇹 planning lockdown for the unvaccinat...</td>\n",
       "      <td>[austria, planning, lockdown, unvaccinated, it...</td>\n",
       "      <td>[austria, plan, lockdown, unvaccin, itali, peo...</td>\n",
       "      <td>[plan, ban, work, without, covid, passport, ca...</td>\n",
       "    </tr>\n",
       "    <tr>\n",
       "      <th>1</th>\n",
       "      <td>a thread on how excess deaths stopped being ti...</td>\n",
       "      <td>[thread, excess, deaths, stopped, tied, elderl...</td>\n",
       "      <td>[thread, excess, death, stop, tie, elderli, co...</td>\n",
       "      <td>[thread, excess, death, stop, tie, covid, exce...</td>\n",
       "    </tr>\n",
       "    <tr>\n",
       "      <th>2</th>\n",
       "      <td>so in a week in which scottmorrisonmp lied to ...</td>\n",
       "      <td>[week, scottmorrisonmp, lied, french, us, alli...</td>\n",
       "      <td>[week, scottmorrisonmp, lie, french, us, alli,...</td>\n",
       "      <td>[week, lie, betray, support, china, russia, ch...</td>\n",
       "    </tr>\n",
       "    <tr>\n",
       "      <th>3</th>\n",
       "      <td>two years since china unleashed covid on the w...</td>\n",
       "      <td>[two, years, since, china, unleashed, covid, w...</td>\n",
       "      <td>[two, year, sinc, china, unleash, covid, world...</td>\n",
       "      <td>[two, year, china, unleash, covid, world, stil...</td>\n",
       "    </tr>\n",
       "    <tr>\n",
       "      <th>4</th>\n",
       "      <td>todays covid death is close to   highest since...</td>\n",
       "      <td>[todays, covid, death, close, highest, since, ...</td>\n",
       "      <td>[today, covid, death, close, highest, sinc, fe...</td>\n",
       "      <td>[today, covid, death, close, highest, rate, in...</td>\n",
       "    </tr>\n",
       "    <tr>\n",
       "      <th>5</th>\n",
       "      <td>breaking news \\n\\nchina tells citizens to stoc...</td>\n",
       "      <td>[breaking, news, china, tells, citizens, stock...</td>\n",
       "      <td>[break, news, china, tell, citizen, stockpil, ...</td>\n",
       "      <td>[break, news, china, tell, citizen, food, covi...</td>\n",
       "    </tr>\n",
       "    <tr>\n",
       "      <th>6</th>\n",
       "      <td>it’s been  days since the st lockdown i’ve see...</td>\n",
       "      <td>[days, since, st, lockdown, seen, patients, th...</td>\n",
       "      <td>[day, sinc, st, lockdown, seen, patient, throu...</td>\n",
       "      <td>[day, seen, patient, throughout, none, patient...</td>\n",
       "    </tr>\n",
       "    <tr>\n",
       "      <th>7</th>\n",
       "      <td>suddenly the us intelligence community says th...</td>\n",
       "      <td>[suddenly, us, intelligence, community, says, ...</td>\n",
       "      <td>[suddenli, us, intellig, commun, say, origin, ...</td>\n",
       "      <td>[say, origin, covid, may, never, known, known,...</td>\n",
       "    </tr>\n",
       "    <tr>\n",
       "      <th>8</th>\n",
       "      <td>somewhere in the world today\\n\\n billionth dos...</td>\n",
       "      <td>[somewhere, world, today, billionth, dose, cov...</td>\n",
       "      <td>[somewher, world, today, billionth, dose, covi...</td>\n",
       "      <td>[world, today, billionth, dose, covid, went, a...</td>\n",
       "    </tr>\n",
       "    <tr>\n",
       "      <th>9</th>\n",
       "      <td>important announcement\\nno more than  soccer s...</td>\n",
       "      <td>[important, announcement, soccer, spectators, ...</td>\n",
       "      <td>[import, announc, soccer, spectat, allow, stad...</td>\n",
       "      <td>[import, soccer, allow, stadium, line, covid, ...</td>\n",
       "    </tr>\n",
       "  </tbody>\n",
       "</table>\n",
       "</div>"
      ],
      "text/plain": [
       "                                             Content  \\\n",
       "0  austria🇦🇹 planning lockdown for the unvaccinat...   \n",
       "1  a thread on how excess deaths stopped being ti...   \n",
       "2  so in a week in which scottmorrisonmp lied to ...   \n",
       "3  two years since china unleashed covid on the w...   \n",
       "4  todays covid death is close to   highest since...   \n",
       "5  breaking news \\n\\nchina tells citizens to stoc...   \n",
       "6  it’s been  days since the st lockdown i’ve see...   \n",
       "7  suddenly the us intelligence community says th...   \n",
       "8  somewhere in the world today\\n\\n billionth dos...   \n",
       "9  important announcement\\nno more than  soccer s...   \n",
       "\n",
       "                                          text_token  \\\n",
       "0  [austria, planning, lockdown, unvaccinated, it...   \n",
       "1  [thread, excess, deaths, stopped, tied, elderl...   \n",
       "2  [week, scottmorrisonmp, lied, french, us, alli...   \n",
       "3  [two, years, since, china, unleashed, covid, w...   \n",
       "4  [todays, covid, death, close, highest, since, ...   \n",
       "5  [breaking, news, china, tells, citizens, stock...   \n",
       "6  [days, since, st, lockdown, seen, patients, th...   \n",
       "7  [suddenly, us, intelligence, community, says, ...   \n",
       "8  [somewhere, world, today, billionth, dose, cov...   \n",
       "9  [important, announcement, soccer, spectators, ...   \n",
       "\n",
       "                                       Tweet_stemmed  \\\n",
       "0  [austria, plan, lockdown, unvaccin, itali, peo...   \n",
       "1  [thread, excess, death, stop, tie, elderli, co...   \n",
       "2  [week, scottmorrisonmp, lie, french, us, alli,...   \n",
       "3  [two, year, sinc, china, unleash, covid, world...   \n",
       "4  [today, covid, death, close, highest, sinc, fe...   \n",
       "5  [break, news, china, tell, citizen, stockpil, ...   \n",
       "6  [day, sinc, st, lockdown, seen, patient, throu...   \n",
       "7  [suddenli, us, intellig, commun, say, origin, ...   \n",
       "8  [somewher, world, today, billionth, dose, covi...   \n",
       "9  [import, announc, soccer, spectat, allow, stad...   \n",
       "\n",
       "                                    Tweet_lemmatized  \n",
       "0  [plan, ban, work, without, covid, passport, ca...  \n",
       "1  [thread, excess, death, stop, tie, covid, exce...  \n",
       "2  [week, lie, betray, support, china, russia, ch...  \n",
       "3  [two, year, china, unleash, covid, world, stil...  \n",
       "4  [today, covid, death, close, highest, rate, in...  \n",
       "5  [break, news, china, tell, citizen, food, covi...  \n",
       "6  [day, seen, patient, throughout, none, patient...  \n",
       "7  [say, origin, covid, may, never, known, known,...  \n",
       "8  [world, today, billionth, dose, covid, went, a...  \n",
       "9  [import, soccer, allow, stadium, line, covid, ...  "
      ]
     },
     "execution_count": 14,
     "metadata": {},
     "output_type": "execute_result"
    }
   ],
   "source": [
    "df['Tweet_lemmatized'] = df['Tweet_lemmatized'].apply(lambda x: ' '.join([item for item in x if len(item)>2]))\n",
    "df['Tweet_lemmatized'] = df['Tweet_lemmatized'].apply(lambda x: [w for w in nltk.wordpunct_tokenize(x) if w.lower() in words or not w.isalpha()])\n",
    "df.head(10)\n"
   ]
  },
  {
   "cell_type": "code",
   "execution_count": 15,
   "id": "d738e7a0",
   "metadata": {},
   "outputs": [
    {
     "data": {
      "text/html": [
       "<div>\n",
       "<style scoped>\n",
       "    .dataframe tbody tr th:only-of-type {\n",
       "        vertical-align: middle;\n",
       "    }\n",
       "\n",
       "    .dataframe tbody tr th {\n",
       "        vertical-align: top;\n",
       "    }\n",
       "\n",
       "    .dataframe thead th {\n",
       "        text-align: right;\n",
       "    }\n",
       "</style>\n",
       "<table border=\"1\" class=\"dataframe\">\n",
       "  <thead>\n",
       "    <tr style=\"text-align: right;\">\n",
       "      <th></th>\n",
       "      <th>Tweet_lemmatized</th>\n",
       "    </tr>\n",
       "  </thead>\n",
       "  <tbody>\n",
       "    <tr>\n",
       "      <th>0</th>\n",
       "      <td>[plan, ban, work, without, covid, passport, ca...</td>\n",
       "    </tr>\n",
       "    <tr>\n",
       "      <th>1</th>\n",
       "      <td>[thread, excess, death, stop, tie, covid, exce...</td>\n",
       "    </tr>\n",
       "    <tr>\n",
       "      <th>2</th>\n",
       "      <td>[week, lie, betray, support, china, russia, ch...</td>\n",
       "    </tr>\n",
       "    <tr>\n",
       "      <th>3</th>\n",
       "      <td>[two, year, china, unleash, covid, world, stil...</td>\n",
       "    </tr>\n",
       "    <tr>\n",
       "      <th>4</th>\n",
       "      <td>[today, covid, death, close, highest, rate, in...</td>\n",
       "    </tr>\n",
       "  </tbody>\n",
       "</table>\n",
       "</div>"
      ],
      "text/plain": [
       "                                    Tweet_lemmatized\n",
       "0  [plan, ban, work, without, covid, passport, ca...\n",
       "1  [thread, excess, death, stop, tie, covid, exce...\n",
       "2  [week, lie, betray, support, china, russia, ch...\n",
       "3  [two, year, china, unleash, covid, world, stil...\n",
       "4  [today, covid, death, close, highest, rate, in..."
      ]
     },
     "execution_count": 15,
     "metadata": {},
     "output_type": "execute_result"
    }
   ],
   "source": [
    "clean_df = pd.DataFrame(df,columns=['Tweet_lemmatized'])\n",
    "clean_df.head()"
   ]
  },
  {
   "cell_type": "code",
   "execution_count": 16,
   "id": "ee69f12c",
   "metadata": {},
   "outputs": [
    {
     "data": {
      "text/html": [
       "<div>\n",
       "<style scoped>\n",
       "    .dataframe tbody tr th:only-of-type {\n",
       "        vertical-align: middle;\n",
       "    }\n",
       "\n",
       "    .dataframe tbody tr th {\n",
       "        vertical-align: top;\n",
       "    }\n",
       "\n",
       "    .dataframe thead th {\n",
       "        text-align: right;\n",
       "    }\n",
       "</style>\n",
       "<table border=\"1\" class=\"dataframe\">\n",
       "  <thead>\n",
       "    <tr style=\"text-align: right;\">\n",
       "      <th></th>\n",
       "      <th>Content</th>\n",
       "    </tr>\n",
       "  </thead>\n",
       "  <tbody>\n",
       "    <tr>\n",
       "      <th>0</th>\n",
       "      <td>[plan, ban, work, without, covid, passport, ca...</td>\n",
       "    </tr>\n",
       "    <tr>\n",
       "      <th>1</th>\n",
       "      <td>[thread, excess, death, stop, tie, covid, exce...</td>\n",
       "    </tr>\n",
       "    <tr>\n",
       "      <th>2</th>\n",
       "      <td>[week, lie, betray, support, china, russia, ch...</td>\n",
       "    </tr>\n",
       "    <tr>\n",
       "      <th>3</th>\n",
       "      <td>[two, year, china, unleash, covid, world, stil...</td>\n",
       "    </tr>\n",
       "    <tr>\n",
       "      <th>4</th>\n",
       "      <td>[today, covid, death, close, highest, rate, in...</td>\n",
       "    </tr>\n",
       "  </tbody>\n",
       "</table>\n",
       "</div>"
      ],
      "text/plain": [
       "                                             Content\n",
       "0  [plan, ban, work, without, covid, passport, ca...\n",
       "1  [thread, excess, death, stop, tie, covid, exce...\n",
       "2  [week, lie, betray, support, china, russia, ch...\n",
       "3  [two, year, china, unleash, covid, world, stil...\n",
       "4  [today, covid, death, close, highest, rate, in..."
      ]
     },
     "execution_count": 16,
     "metadata": {},
     "output_type": "execute_result"
    }
   ],
   "source": [
    "import csv\n",
    "clean_df.columns = ['Content']\n",
    "clean_df.to_csv('clean_covid.csv',encoding='utf-8', index=False) \n",
    "clean_df.head()"
   ]
  },
  {
   "cell_type": "code",
   "execution_count": null,
   "id": "115287bf",
   "metadata": {},
   "outputs": [],
   "source": []
  },
  {
   "cell_type": "code",
   "execution_count": 17,
   "id": "2d7ca128",
   "metadata": {},
   "outputs": [],
   "source": []
  },
  {
   "cell_type": "code",
   "execution_count": null,
   "id": "b7a1ef3f",
   "metadata": {},
   "outputs": [],
   "source": []
  }
 ],
 "metadata": {
  "kernelspec": {
   "display_name": "Python 3 (ipykernel)",
   "language": "python",
   "name": "python3"
  },
  "language_info": {
   "codemirror_mode": {
    "name": "ipython",
    "version": 3
   },
   "file_extension": ".py",
   "mimetype": "text/x-python",
   "name": "python",
   "nbconvert_exporter": "python",
   "pygments_lexer": "ipython3",
   "version": "3.8.12"
  }
 },
 "nbformat": 4,
 "nbformat_minor": 5
}
